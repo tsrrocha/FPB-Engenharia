{
  "nbformat": 4,
  "nbformat_minor": 0,
  "metadata": {
    "colab": {
      "provenance": [],
      "authorship_tag": "ABX9TyMIraON54ZP0QRqB+IOu5pZ",
      "include_colab_link": true
    },
    "kernelspec": {
      "name": "python3",
      "display_name": "Python 3"
    },
    "language_info": {
      "name": "python"
    }
  },
  "cells": [
    {
      "cell_type": "markdown",
      "metadata": {
        "id": "view-in-github",
        "colab_type": "text"
      },
      "source": [
        "<a href=\"https://colab.research.google.com/github/tsrrocha/FPB-Engenharia/blob/main/Google%20Colab/Sistema%20de%20Potencia/exercicios.ipynb\" target=\"_parent\"><img src=\"https://colab.research.google.com/assets/colab-badge.svg\" alt=\"Open In Colab\"/></a>"
      ]
    },
    {
      "cell_type": "code",
      "execution_count": null,
      "metadata": {
        "id": "fs1kxAU3WAsx"
      },
      "outputs": [],
      "source": [
        "import numpy as np\n",
        "#import matplotlib.pyplot as plt\n",
        "#from scipy.linalg import lu, solve_triangular, solve\n",
        "\n",
        "np.set_printoptions(formatter={'float': lambda x: \"{:.3f}\".format(x)})"
      ]
    },
    {
      "cell_type": "markdown",
      "source": [
        "# FPB - Análise e Modelagem de Sistemas de Potência em Alta Tensão\n",
        "---\n",
        "\n",
        "\n",
        "## Sistema PU\n",
        "\n",
        "### Questão 01: (Lista da prof. Rafaela dia 06/10/2023)\n",
        "\n",
        "  \n",
        "#### Enunciado Questão 1:\n",
        "\n",
        "  Calcule no circuito a seguir a tensão fasorial necessária no gerador em pu e em volts para manter o módulo da tensão na carga em: $ 200 V ∠ 36,87° $. Sabe-se que a carga absorve $ 100 kVA $ e que a  impedância da linha é de $ ( 0,024 + j0,0810)𝜴 $.\n",
        "  \n",
        "  Considere como valores de base para os cálculos a tensão $ V_b = 200 V $ e a potência da carga. Considere ainda que a corrente sobre a carga possui fase inicial igual a $ 0° $.\n",
        "\n",
        "![Circuito](https://drive.google.com/file/d/1dwSWwm8LA7le3hFiSWhu1ylSOhwoBafC/preview)\n",
        "\n",
        "#### Resolução Questão 1:\n",
        "\n",
        "  Em construção...\n",
        "\n",
        "## Quadripolo\n",
        "\n",
        "  Em construção...\n"
      ],
      "metadata": {
        "id": "SUk8t4RYWoqj"
      }
    },
    {
      "cell_type": "code",
      "source": [],
      "metadata": {
        "id": "a1jTJRcg3_9T"
      },
      "execution_count": null,
      "outputs": []
    }
  ]
}