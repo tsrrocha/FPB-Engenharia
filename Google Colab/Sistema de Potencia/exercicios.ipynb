{
  "nbformat": 4,
  "nbformat_minor": 0,
  "metadata": {
    "colab": {
      "provenance": [],
      "authorship_tag": "ABX9TyOa5vhHIpc0IN7kEX4caUWk",
      "include_colab_link": true
    },
    "kernelspec": {
      "name": "python3",
      "display_name": "Python 3"
    },
    "language_info": {
      "name": "python"
    }
  },
  "cells": [
    {
      "cell_type": "markdown",
      "metadata": {
        "id": "view-in-github",
        "colab_type": "text"
      },
      "source": [
        "<a href=\"https://colab.research.google.com/github/tsrrocha/FPB-Engenharia/blob/main/Google%20Colab/Sistema%20de%20Potencia/exercicios.ipynb\" target=\"_parent\"><img src=\"https://colab.research.google.com/assets/colab-badge.svg\" alt=\"Open In Colab\"/></a>"
      ]
    },
    {
      "cell_type": "markdown",
      "source": [
        "# FPB - Sistemas de Potência\n",
        "---\n",
        "\n",
        "\n",
        "## Exercicio\n",
        "\n",
        "  Testando.\n",
        "  "
      ],
      "metadata": {
        "id": "SUk8t4RYWoqj"
      }
    },
    {
      "cell_type": "code",
      "execution_count": null,
      "metadata": {
        "id": "fs1kxAU3WAsx"
      },
      "outputs": [],
      "source": []
    }
  ]
}