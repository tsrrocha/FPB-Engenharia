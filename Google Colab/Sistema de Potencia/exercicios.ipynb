{
  "nbformat": 4,
  "nbformat_minor": 0,
  "metadata": {
    "colab": {
      "provenance": [],
      "authorship_tag": "ABX9TyPEJru66Zq/F3Hzi3UWUIQK",
      "include_colab_link": true
    },
    "kernelspec": {
      "name": "python3",
      "display_name": "Python 3"
    },
    "language_info": {
      "name": "python"
    }
  },
  "cells": [
    {
      "cell_type": "markdown",
      "metadata": {
        "id": "view-in-github",
        "colab_type": "text"
      },
      "source": [
        "<a href=\"https://colab.research.google.com/github/tsrrocha/FPB-Engenharia/blob/main/Google%20Colab/Sistema%20de%20Potencia/exercicios.ipynb\" target=\"_parent\"><img src=\"https://colab.research.google.com/assets/colab-badge.svg\" alt=\"Open In Colab\"/></a>"
      ]
    },
    {
      "cell_type": "code",
      "execution_count": null,
      "metadata": {
        "id": "fs1kxAU3WAsx"
      },
      "outputs": [],
      "source": [
        "import numpy as np\n",
        "#import matplotlib.pyplot as plt\n",
        "#from scipy.linalg import lu, solve_triangular, solve\n",
        "\n",
        "np.set_printoptions(formatter={'float': lambda x: \"{:.3f}\".format(x)})"
      ]
    },
    {
      "cell_type": "markdown",
      "source": [
        "# FPB - Análise e Modelagem de Sistemas de Potência em Alta Tensão\n",
        "---\n",
        "\n",
        "\n",
        "## Sistema PU\n",
        "\n",
        "### Questão 01: (Exemplo do prof. Daividson dia 07/10/2023)\n",
        "\n",
        "  \n",
        "#### Enunciado Questão 1:\n",
        "\n",
        "  Calcule no circuito a seguir a tensão fasorial necessária no gerador em pu e em volts para manter o módulo da tensão na carga em: $ 200 V $. Sabe-se que a carga absorve $ 100 kVA $ com $ cosϕ = 0,8 $ indutivo e que a  impedância da linha é de $ ( 0,024 + j0,080)𝜴 $.\n",
        "  \n",
        "  Considere como valores de base para os cálculos a tensão e a potência da carga. Considere ainda que a corrente sobre a carga possui fase inicial igual a $ 0° $.\n",
        "\n",
        "![Circuito](https://drive.google.com/file/d/1dwSWwm8LA7le3hFiSWhu1ylSOhwoBafC/preview)\n",
        "\n",
        "\n",
        "#### Resolução Questão 1:\n",
        "\n",
        "  ***Objetivo***: Calcular a tensão fasorial necessária no **gerador** em **pu** (unidade de valor) e em Volts.\n",
        "\n",
        "**Preparando os dados:**\n",
        "\n",
        "Valores de base:\n",
        "* $ V_{base} = 200V $\n",
        "* $ S_{base} = 100kVA $\n",
        "* $ I_{base} = \\frac{S_{base}}{V_{base}} = \\frac{100 kVA}{200 V} = 500A $\n",
        "* $ Z_{base} = \\frac{(V_{base})^2}{S_{base}} = \\frac{(200V)^2}{100 kVA} = 0,04 Ω $\n",
        "\n",
        "Carga:\n",
        "* $ V_{carga} =  200V$\n",
        "* $ S_{carga} = 100 kVA $\n",
        "* $ FP = cosϕ = 0,8 $ indutivo\n",
        "* $ ϕ = arccos (0,8) = 36,87° $\n",
        "* $ Z_{carga} = \\frac{(V_{carga})^2}{S_{carga}} = \\frac{(200V)^2}{100 kVA} = 0,4 Ω $ (***Obs***: Essa é a parte real, falta a parte imaginária.)\n",
        "* $ Z_{carga} = 0,4 \\angle 36,87° Ω $\n",
        "* $ I_{carga} = \\frac{S_{carga}}{V_{carga}} = \\frac{100 kVA}{200V} = 500 \\angle 0° A $\n",
        "\n",
        "Base PU:\n",
        "\n",
        "* $ V_{Carga_{PU}} = \\frac{V_{Carga}}{V_{base}} = \\frac{200 \\angle 36,87°}{200} V = 1 \\angle 36,87° pu $\n",
        "\n",
        "(*Obs*: Por causa da impedância da carga, a tensão terá uma defasagem de 36,87°)\n",
        "\n",
        "* $ S_{Carga_{PU}} = \\frac{S_{Carga}}{S_{base}} = \\frac{100 kVA}{100 kVA} = 1 pu $\n",
        "* $ Z_{Carga_{PU}} = \\frac{Z_{Carga}}{Z_{base}} = \\frac{0,4\\angle 36,87° Ω}{0,4 Ω} = 1 ∠ 36,87° pu $\n",
        "* $ I_{Carga_{PU}} = \\frac{I_{Carga}}{I_{base}} = \\frac{500 ∠ 0° A}{500 A} = 1 ∠ 0° pu $\n",
        "\n",
        "Linha:\n",
        "\n",
        "* $ Z_{Linha} = 0,024 + 0,080_J Ω$ (forma retangular)\n",
        "\n",
        "* $ |Z_{Linha}| = \\sqrt{(0,024)^2 + (0,080)^2} = 0,0835 $\n",
        "\n",
        "* $ ϕ = arctan(\\frac{0,080}{0,024}) = 73,3° Ω $\n",
        "\n",
        "* $ Z_{Linha} = 0,0835 ∠ 73,3° Ω$ (forma polar)\n",
        "\n",
        "* $ Z_{Linha_{PU}} = \\frac{Z_{Linha}}{Z_{base}} = \\frac{0,0835 \\angle 73,3° Ω}{0,4 Ω} = 0,209 ∠ 73,3° pu  $ (forma polar)\n",
        "* $ Z_{Linha_{PU}} = |Z_{Linha_{PU}}|.cos(73,3°) + |Z_{Linha_{PU}}|.sen(73,3°)_J = 0,209.cos(73,3°) + 0,209.sen(73,3°)_J = 0,06 + 0,2_J pu $ (forma retangular)\n",
        "\n"
      ],
      "metadata": {
        "id": "SUk8t4RYWoqj"
      }
    },
    {
      "cell_type": "markdown",
      "source": [
        "Gerador:\n",
        "\n",
        "* $ I_{Gerador} = I_{Linha} = I_{Carga} $\n",
        "* $ V_{Gerador} = I_{Carga} * ( Z_{Linha} + Z_{Carga} ) $"
      ],
      "metadata": {
        "id": "xoIyrK80N_gF"
      }
    },
    {
      "cell_type": "markdown",
      "source": [
        "\n",
        "---\n"
      ],
      "metadata": {
        "id": "Ke8hWMcbOGA8"
      }
    },
    {
      "cell_type": "markdown",
      "source": [
        "\n",
        "## Quadripolo\n",
        "\n",
        "  Em construção..."
      ],
      "metadata": {
        "id": "e5bgQEGaNwS9"
      }
    },
    {
      "cell_type": "code",
      "source": [],
      "metadata": {
        "id": "a1jTJRcg3_9T"
      },
      "execution_count": null,
      "outputs": []
    }
  ]
}